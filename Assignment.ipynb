{
 "cells": [
  {
   "cell_type": "markdown",
   "id": "8eff0d23",
   "metadata": {},
   "source": [
    "# Wildfires in the US\n",
    "### Exploratory data analysis\n",
    "\n",
    "_Francesco Pudda, Sept. 2022_"
   ]
  },
  {
   "cell_type": "markdown",
   "id": "9292b049",
   "metadata": {},
   "source": [
    "*Context*\n",
    "\n",
    "This data publication contains a spatial database of wildfires that occurred in the United States from 1992 to 2015. It is the third update of a publication originally generated to support the national Fire Program Analysis (FPA) system. The wildfire records were acquired from the reporting systems of federal, state, and local fire organizations.\n",
    "\n",
    "@https://www.kaggle.com/datasets/rtatman/188-million-us-wildfires"
   ]
  },
  {
   "cell_type": "markdown",
   "id": "eece5c67",
   "metadata": {},
   "source": [
    "#### Usage: run each cell one by one with Shift+Enter or Ctrl+Enter"
   ]
  },
  {
   "cell_type": "markdown",
   "id": "cbd25947",
   "metadata": {},
   "source": [
    "## Data preparation"
   ]
  },
  {
   "cell_type": "code",
   "execution_count": null,
   "id": "8efad636",
   "metadata": {},
   "outputs": [],
   "source": [
    "from utils.data_utils import load_dataset, preprocess_dataset"
   ]
  },
  {
   "cell_type": "code",
   "execution_count": null,
   "id": "7250f771",
   "metadata": {},
   "outputs": [],
   "source": [
    "df = load_dataset()"
   ]
  },
  {
   "cell_type": "code",
   "execution_count": null,
   "id": "2820fa83",
   "metadata": {},
   "outputs": [],
   "source": [
    "df = preprocess_dataset(df)"
   ]
  },
  {
   "cell_type": "markdown",
   "id": "30dd0f86",
   "metadata": {},
   "source": [
    "## Q1 Have wildfires become more or less frequent over time?"
   ]
  },
  {
   "cell_type": "markdown",
   "id": "7b4ae9fa",
   "metadata": {},
   "source": [
    "In order to answer this question it will be useful to show the trend of fires over time by counting the fires in a certain time windows. In addition plotting the regression line will help immediately identify the trend."
   ]
  },
  {
   "cell_type": "code",
   "execution_count": null,
   "id": "7c3acc90",
   "metadata": {},
   "outputs": [],
   "source": [
    "from utils.plotting_utils import plot_q1"
   ]
  },
  {
   "cell_type": "code",
   "execution_count": null,
   "id": "0dfc8e3e",
   "metadata": {},
   "outputs": [],
   "source": [
    "plot_q1(df)"
   ]
  },
  {
   "cell_type": "markdown",
   "id": "0e76503d",
   "metadata": {},
   "source": [
    "As it can be seen, unfortunately the number of fires has been increasing over time with an average of around 340 new fires per year within the 1992-2016 time window."
   ]
  },
  {
   "cell_type": "markdown",
   "id": "c2b31c17",
   "metadata": {},
   "source": [
    "## Q2 What counties are the most and least fire-prone?"
   ]
  },
  {
   "cell_type": "markdown",
   "id": "e37bd35d",
   "metadata": {},
   "source": [
    "To answer this question it would be sufficient to group by county, count the number of fires per group and show the top and bottom entries, but it make much more sense to also display where this counties are in the US map by also emphasizing which states are the more fire prone."
   ]
  },
  {
   "cell_type": "code",
   "execution_count": null,
   "id": "55cac2a5",
   "metadata": {},
   "outputs": [],
   "source": [
    "from utils.geopandas_plotting_utils import MapPlottingHandler\n",
    "from utils.data_utils import load_shapefiles\n",
    "from folium.map import Icon"
   ]
  },
  {
   "cell_type": "code",
   "execution_count": null,
   "id": "670a967c",
   "metadata": {},
   "outputs": [],
   "source": [
    "dfs = load_shapefiles()\n",
    "if dfs:\n",
    "    us_states_df, us_counties_df = dfs[0], dfs[1]"
   ]
  },
  {
   "cell_type": "code",
   "execution_count": null,
   "id": "0e906439",
   "metadata": {},
   "outputs": [],
   "source": [
    "icon = Icon(color='red')\n",
    "q2_handler = MapPlottingHandler(df, us_states_df, us_counties_df)"
   ]
  },
  {
   "cell_type": "code",
   "execution_count": null,
   "id": "538aae05",
   "metadata": {
    "scrolled": true
   },
   "outputs": [],
   "source": [
    "q2_handler.activate_q2()"
   ]
  },
  {
   "cell_type": "markdown",
   "id": "4fd9e366",
   "metadata": {},
   "source": [
    "#### NOTE: Everytime the above sliders are changed and prints a success message, the cells below should be run again to be updated"
   ]
  },
  {
   "cell_type": "markdown",
   "id": "9400f500",
   "metadata": {},
   "source": [
    "Below the chart with the counties with the N most number of wildfires."
   ]
  },
  {
   "cell_type": "code",
   "execution_count": null,
   "id": "aef43395",
   "metadata": {},
   "outputs": [],
   "source": [
    "q2_handler.topn_counties_layer.explore(m=q2_handler.states_layer, marker_type=\"marker\", marker_kwds={'icon': icon})"
   ]
  },
  {
   "cell_type": "markdown",
   "id": "9dc239cc",
   "metadata": {},
   "source": [
    "Interestingly, the counties with the most wildfires do not necessarily reside in the most hit states.\n",
    "\n",
    "Below the chart with the counties with only one wildfire."
   ]
  },
  {
   "cell_type": "code",
   "execution_count": null,
   "id": "04fdaa5a",
   "metadata": {},
   "outputs": [],
   "source": [
    "q2_handler.bottom_counties_layer.explore(m=q2_handler.states_layer, marker_type=\"marker\", marker_kwds={'icon': icon})"
   ]
  },
  {
   "cell_type": "markdown",
   "id": "5df2e4e4",
   "metadata": {},
   "source": [
    "And the same thing can be said for counties with only just fire."
   ]
  },
  {
   "cell_type": "markdown",
   "id": "212ece08",
   "metadata": {},
   "source": [
    "## Q3 Given the size, location and date, can you predict the cause of a wildfire?"
   ]
  },
  {
   "cell_type": "markdown",
   "id": "dd627f52",
   "metadata": {},
   "source": [
    "In order to answer this question a ML model was trained over the requested features.\n",
    "\n",
    "Model description:\n",
    "<ul>\n",
    "  <li>Model type: LightGBM Classifiers</li>\n",
    "  <li>Number of estimators: 400</li>\n",
    "  <li>Number of leaves: 40</li>\n",
    "</ul> "
   ]
  },
  {
   "cell_type": "code",
   "execution_count": null,
   "id": "03c40028",
   "metadata": {},
   "outputs": [],
   "source": [
    "# Code to reproduce training\n",
    "\n",
    "# from sklearn.model_selection import train_test_split\n",
    "# from lightgbm import LGBMClassifier\n",
    "# import pickle as pkl\n",
    "\n",
    "# df = df[df['cause'] != 13].reset_index(drop=True)\n",
    "# X_train, X_test, y_train, y_test = train_test_split(df[['size','lat','lon','date']], df['cause'], test_size=0.2, random_state=1)\n",
    "# model = LGBMClassifier(boosting_type='goss', class_weight='balanced', n_estimators=400)\n",
    "# model = model.fit(X_train, y_train)\n",
    "\n",
    "# with open('lgbm_model.pkl', mode='wb') as f:\n",
    "#     pkl.dump(model, f)"
   ]
  },
  {
   "cell_type": "code",
   "execution_count": null,
   "id": "a750b8a7",
   "metadata": {},
   "outputs": [],
   "source": [
    "from utils.data_utils import load_ml_model\n",
    "from utils.plotting_utils import plot_q3"
   ]
  },
  {
   "cell_type": "code",
   "execution_count": null,
   "id": "91991f27",
   "metadata": {},
   "outputs": [],
   "source": [
    "ml_model = load_ml_model()"
   ]
  },
  {
   "cell_type": "code",
   "execution_count": null,
   "id": "0cc0d610",
   "metadata": {},
   "outputs": [],
   "source": [
    "plot_q3(ml_model)"
   ]
  }
 ],
 "metadata": {
  "kernelspec": {
   "display_name": "Python 3 (ipykernel)",
   "language": "python",
   "name": "python3"
  },
  "language_info": {
   "codemirror_mode": {
    "name": "ipython",
    "version": 3
   },
   "file_extension": ".py",
   "mimetype": "text/x-python",
   "name": "python",
   "nbconvert_exporter": "python",
   "pygments_lexer": "ipython3",
   "version": "3.9.13"
  }
 },
 "nbformat": 4,
 "nbformat_minor": 5
}
